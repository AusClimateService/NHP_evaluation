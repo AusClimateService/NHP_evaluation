{
 "cells": [
  {
   "cell_type": "code",
   "execution_count": 6,
   "metadata": {},
   "outputs": [],
   "source": [
    "import sys\n",
    "import os\n",
    "import json"
   ]
  },
  {
   "cell_type": "code",
   "execution_count": 10,
   "metadata": {},
   "outputs": [],
   "source": [
    "parameters = dict(\n",
    "    skip_existing = True,\n",
    "    data_path_processed_ref = '/g/data1/er4/exv563/hydro_projections/data/evaluation/AWAP',\n",
    "    data_path_processed_sim = '/g/data1/er4/exv563/hydro_projections/data/evaluation/ISIMIP_AWAP/climate_inputs',\n",
    "    path_daily_ref = '/g/data1/er4/data/CLIMATE',\n",
    "    path_daily_sim = '/g/data1/er4/HYDROPROJ/ISIMIP_data/processed',\n",
    "\n",
    "    plot_path = '/g/data1/er4/exv563/hydro_projections/plots/data_evaluation/ISIMIP_AWAP/climate_inputs',\n",
    "    evaluation_year_start = 1976,\n",
    "    evaluation_year_end = 2005,\n",
    "    name_sim_prefix = 'isimip',\n",
    "    name_ref = 'awap',\n",
    "    gcms = ['CNRM-CM5','GFDL-ESM2M','MIROC5'],\n",
    "    \n",
    "    # vars = ['rain_day','temp_min_day','temp_max_day','wind','solar_exposure_day'],\n",
    "    vars = ['rain_day'],\n",
    "    ref_vars = {'rain_day':'rain_day','temp_min_day':'temp_min_day','temp_max_day':'temp_max_day',\n",
    "                   'wind':'wind','solar_exposure_day':'solar_exposure_day'},\n",
    "    ref_vars_in_nc = {'rain_day':'rain_day','temp_min_day':'temp_min_day','temp_max_day':'temp_max_day',\n",
    "                   'wind':'wind','solar_exposure_day':'solar_exposure_day'},\n",
    "    sim_vars = {'rain_day':'pr','temp_min_day':'tasmin','temp_max_day':'tasmax',\n",
    "                   'wind':'sfcWind','solar_exposure_day':'rsds'},\n",
    "    sim_vars_in_nc = {'rain_day':'pr','temp_min_day':'tasmin','temp_max_day':'tasmax',\n",
    "                         'wind':'sfcWind','solar_exposure_day':'rsds'},\n",
    "    \n",
    "    mask_file = '/g/data1/er4/exv563/hydro_projections/data/spatial/awra_awap_mask/awra_awap_mask.nc',\n",
    "    mask_var_name_in_nc = 'mask',\n",
    "    \n",
    "    region_file = '/g/data1/er4/data/outputs/verification/data/spatial/NRM_regions/NRM_super_clusters_nc/NRM_super_clusters.nc',\n",
    "    region_var = 'NRM_super_cluster',\n",
    "    region_meta_data = '/g/data1/er4/data/outputs/verification/data/spatial/NRM_regions/NRM_super_clusters_nc/NRM_super_clusters_meta.csv',\n",
    "    region_meta_data_id_column = 'FID',\n",
    "    region_meta_data_label_column = 'label',\n",
    "    region_codes_to_use = ['AU', 0, 1, 2, 3],\n",
    "    region_codes_to_use_spatio_temporal = [0, 1, 2, 3], # use less memory, therefore only NRM regions\n",
    "\n",
    "    point_locations = {'Melbourne': {'lat': -37.769525, 'lon': 145.008552},\n",
    "               'Sydney': {'lat': -33.782566, 'lon': 150.942748},\n",
    "               'Darwin': {'lat': -12.381293, 'lon': 130.915446},\n",
    "               'Perth': {'lat': -31.793321, 'lon': 116.108832}},\n",
    "    \n",
    "    bias_maps_statistics = ['mean','min','max','std','pctl05','pctl25','pctl50','pctl75','pctl95'],\n",
    "    \n",
    "    boxplots_statistics = ['mean','min','max','std','pctl05','pctl25','pctl50','pctl75','pctl95'],\n",
    "    boxplots_showfliers = False,\n",
    "    \n",
    "    timeseries_statistics = ['mean','min','max','std','pctl05','pctl25','pctl50','pctl75','pctl95'],\n",
    "    \n",
    "    climatologies_statistics = ['mean','min','max','std','pctl05','pctl25','pctl50','pctl75','pctl95'],\n",
    "    \n",
    "    animation_daily_start = '2000-01-01',\n",
    "    animation_daily_end = '2000-01-31',\n",
    "    animation_daily_years_read_in = [2000],\n",
    "    animation_create_ref_animations = True,\n",
    "    \n",
    "    fourier_time_aggregations = ['daily', 'monthly']\n",
    ")\n",
    "    "
   ]
  },
  {
   "cell_type": "code",
   "execution_count": 11,
   "metadata": {},
   "outputs": [],
   "source": [
    "with open('config.json', 'w') as fp:\n",
    "    json.dump(parameters, fp, indent=True)"
   ]
  },
  {
   "cell_type": "code",
   "execution_count": 4,
   "metadata": {},
   "outputs": [],
   "source": [
    "# open the config file with:\n",
    "# with open('config.json', 'r') as fp:\n",
    "#     parameters = json.load(fp)"
   ]
  }
 ],
 "metadata": {
  "kernelspec": {
   "display_name": "Python 3",
   "language": "python",
   "name": "python3"
  },
  "language_info": {
   "codemirror_mode": {
    "name": "ipython",
    "version": 3
   },
   "file_extension": ".py",
   "mimetype": "text/x-python",
   "name": "python",
   "nbconvert_exporter": "python",
   "pygments_lexer": "ipython3",
   "version": "3.6.7"
  }
 },
 "nbformat": 4,
 "nbformat_minor": 4
}
